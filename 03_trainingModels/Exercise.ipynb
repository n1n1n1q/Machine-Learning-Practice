{
 "cells": [
  {
   "cell_type": "markdown",
   "metadata": {},
   "source": [
    "## Training Models Exercises"
   ]
  },
  {
   "cell_type": "markdown",
   "metadata": {},
   "source": [
    "12. Batch GD for a softmax regression from scratch"
   ]
  },
  {
   "cell_type": "markdown",
   "metadata": {},
   "source": [
    "Loading the iris dataset"
   ]
  },
  {
   "cell_type": "code",
   "execution_count": 127,
   "metadata": {},
   "outputs": [],
   "source": [
    "import numpy as np\n",
    "from sklearn.datasets import load_iris\n",
    "\n",
    "iris = load_iris(as_frame=True)\n",
    "X = iris.data[[\"petal length (cm)\", \"petal width (cm)\"]].values\n",
    "y = iris[\"target\"]\n"
   ]
  },
  {
   "cell_type": "markdown",
   "metadata": {},
   "source": [
    "Data prepoccessing (changed to author's method because initially used sklearn stuff)"
   ]
  },
  {
   "cell_type": "code",
   "execution_count": 128,
   "metadata": {},
   "outputs": [],
   "source": [
    "def to_one_hot(y):\n",
    "    n_classes = y.unique().shape[0]\n",
    "    m = len(y)\n",
    "    Y_one_hot = np.zeros((m, n_classes))\n",
    "    Y_one_hot[np.arange(m), y] = 1\n",
    "    return Y_one_hot\n",
    "\n",
    "X = np.c_[np.ones([len(X), 1]), X]\n",
    "rnd_indices = np.random.permutation(len(X))\n",
    "X_test = X[rnd_indices[:30]]\n",
    "y_test_onehot = to_one_hot(y[rnd_indices[:30]])\n",
    "X_train = X[rnd_indices[30:]]\n",
    "y_train_onehot = to_one_hot(y[rnd_indices[30:]])\n",
    "y_test = y[rnd_indices[:30]]"
   ]
  },
  {
   "cell_type": "markdown",
   "metadata": {},
   "source": [
    "Regular batch GD, without early stopping"
   ]
  },
  {
   "cell_type": "code",
   "execution_count": 129,
   "metadata": {},
   "outputs": [
    {
     "data": {
      "text/plain": [
       "array([[ 3.79290443, -0.95195374, -3.74163003],\n",
       "       [-1.20250358,  0.43128873, -0.13282586],\n",
       "       [-1.41644888, -0.81589018,  2.60360352]])"
      ]
     },
     "execution_count": 129,
     "metadata": {},
     "output_type": "execute_result"
    }
   ],
   "source": [
    "def softmax_function(theta, x):\n",
    "    scores = x.dot(theta)\n",
    "    exp_scores = np.exp(scores)\n",
    "    return exp_scores / np.sum(exp_scores, axis=1, keepdims=True)\n",
    "eta = 0.01\n",
    "n_epochs = 10001\n",
    "m = len(X)\n",
    "theta = np.random.randn(3, X_train.shape[1])\n",
    "for epoch in range(n_epochs):\n",
    "    gradients = 1 / m * X_train.T.dot(softmax_function(theta, X_train) - y_train_onehot)\n",
    "    theta = theta - eta * gradients\n",
    "theta"
   ]
  },
  {
   "cell_type": "code",
   "execution_count": 130,
   "metadata": {},
   "outputs": [
    {
     "data": {
      "text/plain": [
       "np.float64(0.8666666666666667)"
      ]
     },
     "execution_count": 130,
     "metadata": {},
     "output_type": "execute_result"
    }
   ],
   "source": [
    "Y_proba = softmax_function(theta, X_test)\n",
    "y_predict = np.argmax(Y_proba, axis=1)\n",
    "\n",
    "accuracy_score = np.mean(y_predict == y_test)\n",
    "\n",
    "accuracy_score"
   ]
  },
  {
   "cell_type": "markdown",
   "metadata": {},
   "source": [
    "Implementing early stopping"
   ]
  },
  {
   "cell_type": "code",
   "execution_count": 131,
   "metadata": {},
   "outputs": [
    {
     "name": "stdout",
     "output_type": "stream",
     "text": [
      "298509\n"
     ]
    }
   ],
   "source": [
    "eta = 0.01\n",
    "n_epochs = 1000001\n",
    "m = len(X)\n",
    "alpha = 0.1\n",
    "\n",
    "minimum_loss = float(\"inf\")\n",
    "theta = np.random.randn(3, X_train.shape[1])\n",
    "\n",
    "for epoch in range(n_epochs):\n",
    "    probabilities = softmax_function(theta, X_train)\n",
    "    gradients = 1 / m * X_train.T.dot(probabilities - y_train_onehot) + np.r_[np.zeros([1, 3]), alpha * theta[1:]]\n",
    "    theta = theta - eta * gradients\n",
    "    loss = -np.mean(np.sum(y_train_onehot * np.log(probabilities + 1e-7), axis=1)) + (alpha / 2 * np.sum(theta[1:] ** 2))\n",
    "    if loss < minimum_loss:\n",
    "        minimum_loss = loss\n",
    "    else:\n",
    "        print(epoch)\n",
    "        break"
   ]
  },
  {
   "cell_type": "code",
   "execution_count": 132,
   "metadata": {},
   "outputs": [
    {
     "data": {
      "text/plain": [
       "np.float64(0.9)"
      ]
     },
     "execution_count": 132,
     "metadata": {},
     "output_type": "execute_result"
    }
   ],
   "source": [
    "Y_proba = softmax_function(theta, X_test)\n",
    "y_predict = np.argmax(Y_proba, axis=1)\n",
    "\n",
    "accuracy_score = np.mean(y_predict == y_test)\n",
    "\n",
    "accuracy_score"
   ]
  }
 ],
 "metadata": {
  "kernelspec": {
   "display_name": "Python 3",
   "language": "python",
   "name": "python3"
  },
  "language_info": {
   "codemirror_mode": {
    "name": "ipython",
    "version": 3
   },
   "file_extension": ".py",
   "mimetype": "text/x-python",
   "name": "python",
   "nbconvert_exporter": "python",
   "pygments_lexer": "ipython3",
   "version": "3.11.9"
  }
 },
 "nbformat": 4,
 "nbformat_minor": 2
}
